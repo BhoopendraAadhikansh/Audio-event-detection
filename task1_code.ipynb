{
  "nbformat": 4,
  "nbformat_minor": 0,
  "metadata": {
    "colab": {
      "name": "task1_code",
      "provenance": [],
      "collapsed_sections": []
    },
    "kernelspec": {
      "display_name": "Python 3",
      "name": "python3"
    }
  },
  "cells": [
    {
      "cell_type": "code",
      "metadata": {
        "id": "tikHxUxV0huC"
      },
      "source": [
        "import librosa\n",
        "import numpy as np\n",
        "import pandas as pd\n",
        "import pdb\n",
        "import string\n",
        "import tensorflow as tf\n",
        "from tensorflow import keras\n",
        "from keras.utils import np_utils\n",
        "from keras.models import Sequential\n",
        "from keras.layers.core import Dense, Dropout, Activation, Flatten\n",
        "from keras.layers.convolutional import Convolution2D, MaxPooling2D\n",
        "from tensorflow.keras import optimizers"
      ],
      "execution_count": 4,
      "outputs": []
    },
    {
      "cell_type": "code",
      "metadata": {
        "id": "UMBK9d_z0jMJ"
      },
      "source": [
        "def wav2feat(wavfile):\n",
        "    '''\n",
        "    Input: audio wav file name\n",
        "    Output: Magnitude spectrogram\n",
        "    '''\n",
        "    x, Fs = librosa.load(wavfile, sr=44100, mono=True) \n",
        "    hop = int(0.01 * Fs) # 10ms\n",
        "    win = int(0.02 * Fs) # 20ms\n",
        "    X = librosa.stft(x, n_fft=1024, hop_length=hop, win_length=win, window='hann', center=True, pad_mode='reflect')\n",
        "    return np.abs(X)"
      ],
      "execution_count": 5,
      "outputs": []
    },
    {
      "cell_type": "code",
      "metadata": {
        "id": "djbTFHPp0uNZ"
      },
      "source": [
        "def read_csv(filename):\n",
        "    id_label = {}\n",
        "    with open(filename,'r') as fid:\n",
        "        for line in fid: # '176787-5-0-27.wav,engine_idling\\n'\n",
        "            tokens = line.strip().split(',') # ['176787-5-0-27.wav', 'engine_idling']\n",
        "            id_label[tokens[0]] = tokens[1]\n",
        "    return id_label"
      ],
      "execution_count": 6,
      "outputs": []
    },
    {
      "cell_type": "code",
      "metadata": {
        "id": "IMFwQuqkdhqZ"
      },
      "source": [
        "def unique_class(y):\n",
        "  #unique class\n",
        "  cl=np.unique(y)\n",
        "  num_cl=len(cl)\n",
        "  return cl,num_cl"
      ],
      "execution_count": 7,
      "outputs": []
    },
    {
      "cell_type": "code",
      "metadata": {
        "id": "3prEEq-Odilu"
      },
      "source": [
        "#one hot encoding\n",
        "def one_hot_encoding(y_tr,y_te):\n",
        "  cl,num_cl=unique_class(y_tr)\n",
        "  y_train=np.zeros((len(y_te),num_cl))\n",
        "  for i in range(0,len(y_te)):\n",
        "    for j in range(0,num_cl):\n",
        "      if y_te[i]==cl[j]:\n",
        "        y_train[i][j]=1\n",
        "        break\n",
        "  return y_train"
      ],
      "execution_count": 8,
      "outputs": []
    },
    {
      "cell_type": "code",
      "metadata": {
        "id": "QTGlr3kygTCq"
      },
      "source": [
        "#reshape input data\n",
        "def reshape_X(X):\n",
        "  A=X.shape[0]\n",
        "  B=X[0].shape[0]\n",
        "  C=X[0].shape[1]\n",
        "  X.resize(A,B,C,1)"
      ],
      "execution_count": 26,
      "outputs": []
    },
    {
      "cell_type": "code",
      "metadata": {
        "id": "XdRw_gc6j7DN"
      },
      "source": [
        "#classname to class number map\n",
        "def class_map(uniq_clas):\n",
        "  d={}\n",
        "  for i in range(0,len(uniq_clas)):\n",
        "    d[i] = uniq_clas[i]\n",
        "  return d"
      ],
      "execution_count": 10,
      "outputs": []
    },
    {
      "cell_type": "code",
      "metadata": {
        "id": "3Ep-65UNk9TK"
      },
      "source": [
        "#y_pred num to lable\n",
        "def num_to_lable(y):\n",
        "  lable=[]\n",
        "  for i in y:\n",
        "    lable.append(map[i])\n",
        "  return lable"
      ],
      "execution_count": 27,
      "outputs": []
    },
    {
      "cell_type": "code",
      "metadata": {
        "id": "YSHEycw7lyVy"
      },
      "source": [
        "#write csv file\n",
        "def write_csv(aud_name,lable,filepath): \n",
        "  dict = {'name': aud_name, 'class': lable}      \n",
        "  df = pd.DataFrame(dict)  \n",
        "  df.to_csv(filepath,index=False) "
      ],
      "execution_count": 12,
      "outputs": []
    },
    {
      "cell_type": "code",
      "metadata": {
        "colab": {
          "base_uri": "https://localhost:8080/"
        },
        "id": "DyPkP4v536lV",
        "outputId": "55b1f0ea-8565-4c07-80b9-eeb5b0263a0f"
      },
      "source": [
        "from google.colab import drive\n",
        "drive.mount('/content/drive')"
      ],
      "execution_count": 85,
      "outputs": [
        {
          "output_type": "stream",
          "text": [
            "Drive already mounted at /content/drive; to attempt to forcibly remount, call drive.mount(\"/content/drive\", force_remount=True).\n"
          ],
          "name": "stdout"
        }
      ]
    },
    {
      "cell_type": "code",
      "metadata": {
        "id": "pc_jtnVx07k8"
      },
      "source": [
        " f='/content/drive/MyDrive/labels_train.csv'\n",
        " aud_lable=read_csv(f)\n",
        " x_train=[]\n",
        " y=[]\n",
        " df = pd.read_csv(f, sep=',', header=None)\n",
        " aud_name = df[0].values\n",
        " aud_name = aud_name[1:]\n",
        " for i in aud_name:\n",
        "   w='/content/drive/MyDrive/audio_train_1ch/'+i\n",
        "   U=wav2feat(w)\n",
        "   U.resize(513,401)\n",
        "   x_train.append(U)\n",
        "   y.append(aud_lable[i])\n",
        " x_train=np.array(x_train)\n",
        " y=np.array(y)"
      ],
      "execution_count": 28,
      "outputs": []
    },
    {
      "cell_type": "code",
      "metadata": {
        "id": "98p7XRbdLt2T"
      },
      "source": [
        "reshape_X(x_train)\n",
        "cl,num_cl=unique_class(y)\n",
        "y_train=one_hot_encoding(y,y)\n",
        "norm_x=tf.keras.preprocessing.image.ImageDataGenerator(featurewise_center=True,featurewise_std_normalization=True)\n",
        "norm_x.fit(x_train)"
      ],
      "execution_count": 29,
      "outputs": []
    },
    {
      "cell_type": "code",
      "metadata": {
        "id": "094AvNht-l7Z"
      },
      "source": [
        "#Define Model\n",
        "input_shape=x_train[0].shape\n",
        "model = Sequential()\n",
        "model.add(Convolution2D(32, kernel_size=(3,3), activation='relu', input_shape=input_shape))\n",
        "model.add(Convolution2D(64, kernel_size=(3, 3), activation='relu'))\n",
        "model.add(MaxPooling2D(pool_size=(2, 2)))\n",
        "model.add(Dropout(0.25))\n",
        "model.add(Flatten())\n",
        "model.add(Dense(128, activation='relu'))\n",
        "model.add(Dropout(0.5))\n",
        "model.add(Dense(num_cl, activation='softmax'))\n",
        "#Compile\n",
        "model.compile(loss=keras.losses.categorical_crossentropy, optimizer=optimizers.Adam(), metrics=['accuracy'])"
      ],
      "execution_count": 14,
      "outputs": []
    },
    {
      "cell_type": "code",
      "metadata": {
        "id": "Um9N4aTyABRn",
        "colab": {
          "base_uri": "https://localhost:8080/"
        },
        "outputId": "c3bc0129-eecf-4350-a0aa-be5564a479b9"
      },
      "source": [
        "#Train and Test The Model\n",
        "model.fit(norm_x.flow(x_train, y_train, batch_size=5), steps_per_epoch=len(x_train)/10, epochs=10, verbose=1)"
      ],
      "execution_count": null,
      "outputs": [
        {
          "output_type": "stream",
          "text": [
            "Epoch 1/10\n",
            "177/176 [==============================] - 1183s 7s/step - loss: 1.8571 - accuracy: 0.4169\n",
            "Epoch 2/10\n",
            "177/176 [==============================] - 1211s 7s/step - loss: 1.3014 - accuracy: 0.6095\n",
            "Epoch 3/10\n",
            "177/176 [==============================] - 1198s 7s/step - loss: 0.9877 - accuracy: 0.6927\n",
            "Epoch 4/10\n",
            "177/176 [==============================] - 1205s 7s/step - loss: 0.6925 - accuracy: 0.8127\n",
            "Epoch 5/10\n",
            "177/176 [==============================] - 1216s 7s/step - loss: 0.5425 - accuracy: 0.8542\n",
            "Epoch 6/10\n",
            "177/176 [==============================] - 1206s 7s/step - loss: 0.4577 - accuracy: 0.8820\n",
            "Epoch 7/10\n",
            "177/176 [==============================] - 1210s 7s/step - loss: 0.4304 - accuracy: 0.9062\n",
            "Epoch 8/10\n",
            "177/176 [==============================] - 1201s 7s/step - loss: 0.4050 - accuracy: 0.9058\n",
            "Epoch 9/10\n",
            "177/176 [==============================] - 1209s 7s/step - loss: 0.2854 - accuracy: 0.9379\n",
            "Epoch 10/10\n",
            "177/176 [==============================] - 1204s 7s/step - loss: 0.2382 - accuracy: 0.9455\n"
          ],
          "name": "stdout"
        },
        {
          "output_type": "execute_result",
          "data": {
            "text/plain": [
              "<tensorflow.python.keras.callbacks.History at 0x7f6752556400>"
            ]
          },
          "metadata": {
            "tags": []
          },
          "execution_count": 41
        }
      ]
    },
    {
      "cell_type": "markdown",
      "metadata": {
        "id": "weocWCl9KXgX"
      },
      "source": [
        ""
      ]
    },
    {
      "cell_type": "code",
      "metadata": {
        "id": "xGwQ3UjsVqzw",
        "colab": {
          "base_uri": "https://localhost:8080/"
        },
        "outputId": "d0e49d9a-f8af-427c-cc65-76e3c7599672"
      },
      "source": [
        "if __name__==\"__main__\":\n",
        "  f='/content/drive/MyDrive/output/data/data/test_task1/task1.csv'\n",
        "  #aud_lable1=read_csv(f)\n",
        "  x_test1=[]\n",
        "  #y_test1=[]\n",
        "  test1= pd.read_csv(f, sep=',', header=None)\n",
        "  aud_test1 = test1[0].values\n",
        "  for i in aud_test1:\n",
        "    w='//content/drive/MyDrive/output/data/data/test_task1/feats/'+i\n",
        "    V=np.load(w)\n",
        "    V=np.array(V)\n",
        "    V.resize(513,401)\n",
        "    x_test1.append(V)\n",
        "    #y_test1.append(aud_lable1[i])\n",
        "  x_test1=np.array(x_test1)\n",
        "  #y_test1=np.array(y_test1)\n",
        "  #y_test1_one_hot=one_hot_encoding(y,y_test1)\n",
        "  reshape_X(x_test1)\n",
        "  #scores = model.evaluate(x_test1, y_test1_one_hot, verbose=1)\n",
        "  #print(\"%s: %.2f%%\" % (model.metrics_names[1], scores[1]*100))\n",
        "  ynew = model.predict_classes(x_test1)\n",
        "  map=class_map(cl)\n",
        "  lable=num_to_lable(ynew)\n",
        "  f_path='/content/drive/MyDrive/output/task1_labels_test.csv'\n",
        "  write_csv(aud_test1,lable,f_path)"
      ],
      "execution_count": 37,
      "outputs": [
        {
          "output_type": "stream",
          "text": [
            "['a001.npy' 'a002.npy' 'a003.npy' 'a004.npy' 'a005.npy' 'a006.npy'\n",
            " 'a007.npy' 'a008.npy' 'a009.npy' 'a010.npy' 'a011.npy' 'a012.npy'\n",
            " 'a013.npy' 'a014.npy' 'a015.npy' 'a016.npy' 'a017.npy' 'a018.npy'\n",
            " 'a019.npy' 'a020.npy' 'a021.npy' 'a022.npy' 'a023.npy' 'a024.npy'\n",
            " 'a025.npy' 'a026.npy' 'a027.npy' 'a028.npy' 'a029.npy' 'a030.npy'\n",
            " 'a031.npy' 'a032.npy' 'a033.npy' 'a034.npy' 'a035.npy' 'a036.npy'\n",
            " 'a037.npy' 'a038.npy' 'a039.npy' 'a040.npy' 'a041.npy' 'a042.npy'\n",
            " 'a043.npy' 'a044.npy' 'a045.npy' 'a046.npy' 'a047.npy' 'a048.npy'\n",
            " 'a049.npy' 'a050.npy']\n",
            "['drilling', 'children_playing', 'engine_idling', 'dog_bark', 'drilling', 'children_playing', 'drilling', 'drilling', 'children_playing', 'dog_bark', 'dog_bark', 'children_playing', 'children_playing', 'street_music', 'drilling', 'children_playing', 'children_playing', 'street_music', 'gun_shot', 'drilling', 'jackhammer', 'engine_idling', 'gun_shot', 'drilling', 'drilling', 'engine_idling', 'drilling', 'engine_idling', 'street_music', 'children_playing', 'jackhammer', 'drilling', 'street_music', 'street_music', 'drilling', 'siren', 'dog_bark', 'gun_shot', 'gun_shot', 'engine_idling', 'drilling', 'drilling', 'siren', 'street_music', 'jackhammer', 'drilling', 'drilling', 'air_conditioner', 'children_playing', 'drilling']\n"
          ],
          "name": "stdout"
        }
      ]
    },
    {
      "cell_type": "code",
      "metadata": {
        "id": "DbB9SadktCEU"
      },
      "source": [
        ""
      ],
      "execution_count": null,
      "outputs": []
    }
  ]
}
